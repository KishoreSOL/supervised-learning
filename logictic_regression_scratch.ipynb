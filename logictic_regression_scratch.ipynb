{
 "cells": [
  {
   "cell_type": "code",
   "execution_count": 1,
   "id": "3a6669c4-6ad8-41f4-b716-07c227075180",
   "metadata": {
    "tags": []
   },
   "outputs": [],
   "source": [
    "import numpy as np\n",
    "import matplotlib.pyplot as plt\n"
   ]
  },
  {
   "cell_type": "code",
   "execution_count": 2,
   "id": "1b160b3f-04d6-4d6a-a408-7ef4f30c8e35",
   "metadata": {
    "tags": []
   },
   "outputs": [],
   "source": [
    "dataset={\"protein\":[5,20,10,15,30,40,50],\"fat\":[40,54,50,70,3,6,8],\"class\":[\"bad\",\"bad\",\"bad\",\"bad\",\"good\",\"good\",\"good\"]}"
   ]
  },
  {
   "cell_type": "code",
   "execution_count": 4,
   "id": "3ba496c1-1a10-4dec-a8cb-59da28a4193b",
   "metadata": {
    "tags": []
   },
   "outputs": [
    {
     "name": "stdout",
     "output_type": "stream",
     "text": [
      "[5, 20, 10, 15, 30, 40, 50]\n"
     ]
    }
   ],
   "source": [
    "x1=dataset[\"protein\"]\n",
    "print(x1)"
   ]
  },
  {
   "cell_type": "code",
   "execution_count": 5,
   "id": "7e4acea1-acab-46ad-80a9-03e00018cc6f",
   "metadata": {
    "tags": []
   },
   "outputs": [
    {
     "name": "stdout",
     "output_type": "stream",
     "text": [
      "[40, 54, 50, 70, 3, 6, 8]\n"
     ]
    }
   ],
   "source": [
    "x2=dataset[\"fat\"]\n",
    "print(x2)"
   ]
  },
  {
   "cell_type": "code",
   "execution_count": 6,
   "id": "88775a6d-7842-4a7a-abc9-0df3687b32cc",
   "metadata": {
    "tags": []
   },
   "outputs": [
    {
     "data": {
      "image/png": "[encoded data removed]",
      "text/plain": [
       "<Figure size 640x480 with 1 Axes>"
      ]
     },
     "metadata": {},
     "output_type": "display_data"
    }
   ],
   "source": [
    "plt.scatter(x1,x2)\n",
    "plt.xlabel(\"protein\")\n",
    "plt.ylabel(\"fat\")\n",
    "plt.show()"
   ]
  },
  {
   "cell_type": "markdown",
   "id": "6de36858-f508-4cc3-a5b2-16bddebea80d",
   "metadata": {},
   "source": [
    "for this the line equation for the decision boundary is y= 1*x1 + 1*x2 + (-10) "
   ]
  },
  {
   "cell_type": "markdown",
   "id": "3b05ba25-2e97-436a-8fdf-e1ea21873747",
   "metadata": {},
   "source": [
    "now we got the decision boundary line , now we are going to give it to the sigmoid function "
   ]
  },
  {
   "cell_type": "code",
   "execution_count": 43,
   "id": "b831c213-c353-48fe-a5f7-8e3beaedf0ac",
   "metadata": {
    "tags": []
   },
   "outputs": [
    {
     "data": {
      "image/png": "[encoded data removed]",
      "text/plain": [
       "<Figure size 640x480 with 1 Axes>"
      ]
     },
     "metadata": {},
     "output_type": "display_data"
    }
   ],
   "source": [
    "# Define the line equation\n",
    "def line_equation(x1, x2):\n",
    "    return 0.195 * np.array(x1) + (-0.1982071 *np.array(x2)) +0.0058043\n",
    "\n",
    "# Plot the scatter plot\n",
    "plt.scatter(x1, x2, label='Data Points')\n",
    "\n",
    "# Plot the line\n",
    "x_values = np.linspace(min(x1), max(x1), 100) # Generate x values for the line\n",
    "y_values = line_equation(x_values, x_values) # Calculate y values using the line equation\n",
    "plt.plot(x_values, y_values, color='red', label='y = x1 + x2 - 10')\n",
    "\n",
    "# Add labels and legend\n",
    "plt.xlabel(\"Protein\")\n",
    "plt.ylabel(\"Fat\")\n",
    "plt.legend()\n",
    "\n",
    "# Show the plot\n",
    "plt.show()"
   ]
  },
  {
   "cell_type": "code",
   "execution_count": 40,
   "id": "9a40e96f-3a26-4cd4-b6e7-9850f212b05b",
   "metadata": {
    "tags": []
   },
   "outputs": [],
   "source": [
    "def sigmoid(x, y):\n",
    "    z = 0.195 * np.array(x) + (-0.1982071 *np.array(y)) +0.0058043\n",
    "    temp = 1 / (1 + np.exp(-z))\n",
    "    return temp"
   ]
  },
  {
   "cell_type": "code",
   "execution_count": 41,
   "id": "58bf193a-9b13-4f7e-9b67-47d673623bde",
   "metadata": {
    "tags": []
   },
   "outputs": [
    {
     "data": {
      "text/plain": [
       "array([0.9796424])"
      ]
     },
     "execution_count": 41,
     "metadata": {},
     "output_type": "execute_result"
    }
   ],
   "source": [
    "sigmoid([30],[10])"
   ]
  },
  {
   "cell_type": "code",
   "execution_count": 1,
   "id": "4c5d6a79-7e7e-4208-adad-9ff1d74c7469",
   "metadata": {},
   "outputs": [],
   "source": [
    "import numpy as np \n",
    "from numpy import log,dot,exp,shape\n",
    "import matplotlib.pyplot as plt\n",
    "from sklearn.datasets import make_classification"
   ]
  },
  {
   "cell_type": "code",
   "execution_count": 3,
   "id": "f1850870-9303-4a62-bc58-b54564934da0",
   "metadata": {
    "tags": []
   },
   "outputs": [],
   "source": [
    "class LogisticRegression:\n",
    "    \n",
    "    def sigmoid(self,z):\n",
    "        sig = 1/(1+exp(-z))\n",
    "        return sig\n",
    "    \n",
    "    def initialize(self,X):\n",
    "        weights = np.zeros((shape(X)[1]+1,1))\n",
    "        X = np.c_[np.ones((shape(X)[0],1)),X]\n",
    "        return weights,X\n",
    "    \n",
    "    def fit(self,X,y,alpha=0.001,iter=400):\n",
    "        weights,X = self.initialize(X)\n",
    "        def cost(theta):\n",
    "            z = dot(X,theta)\n",
    "            cost0 = y.T.dot(log(self.sigmoid(z)))\n",
    "            cost1 = (1-y).T.dot(log(1-self.sigmoid(z)))\n",
    "            cost = -((cost1 + cost0))/len(y)\n",
    "            return cost\n",
    "        cost_list = np.zeros(iter,)\n",
    "        for i in range(iter):\n",
    "            weights = weights - alpha*dot(X.T,self.sigmoid(dot(X,weights))-np.reshape(y,(len(y),1)))\n",
    "            cost_list[i] = cost(weights)\n",
    "        self.weights = weights\n",
    "        return cost_list\n",
    "    \n",
    "    def predict(self,X):\n",
    "        z = dot(self.initialize(X)[1],self.weights)\n",
    "        lis = []\n",
    "        for i in self.sigmoid(z):\n",
    "            if i>0.5:\n",
    "                lis.append(1)\n",
    "            else:\n",
    "                lis.append(0)\n",
    "        return lis"
   ]
  },
  {
   "cell_type": "code",
   "execution_count": 4,
   "id": "47c02fe0-93da-4b2e-8a33-29a63bd62833",
   "metadata": {
    "tags": []
   },
   "outputs": [],
   "source": [
    "model=LogisticRegression()"
   ]
  },
  {
   "cell_type": "code",
   "execution_count": 5,
   "id": "62292383-e3b6-4a4d-b311-1400d4dc138a",
   "metadata": {
    "tags": []
   },
   "outputs": [],
   "source": [
    "dataset={\"protein\":[5,20,10,15,30,40,50],\"fat\":[40,54,50,70,3,6,8],\"class\":[\"bad\",\"bad\",\"bad\",\"bad\",\"good\",\"good\",\"good\"]}\n",
    "x1=dataset[\"protein\"]\n",
    "x2=dataset[\"fat\"]\n",
    "y=dataset[\"class\"]"
   ]
  },
  {
   "cell_type": "code",
   "execution_count": 10,
   "id": "dd90ff3c-dcb9-4476-8ae5-139a1f58a4e3",
   "metadata": {
    "tags": []
   },
   "outputs": [],
   "source": [
    "from sklearn.preprocessing import LabelEncoder\n",
    "\n",
    "label_encoder = LabelEncoder()\n",
    "y = label_encoder.fit_transform(y)"
   ]
  },
  {
   "cell_type": "code",
   "execution_count": 12,
   "id": "5f93b448-47fc-48d0-9f36-cde84fef15c6",
   "metadata": {
    "tags": []
   },
   "outputs": [
    {
     "name": "stderr",
     "output_type": "stream",
     "text": [
      "C:\\Users\\Sathish\\AppData\\Local\\Temp\\ipykernel_10516\\3859874127.py:23: DeprecationWarning: Conversion of an array with ndim > 0 to a scalar is deprecated, and will error in future. Ensure you extract a single element from your array before performing this operation. (Deprecated NumPy 1.25.)\n",
      "  cost_list[i] = cost(weights)\n"
     ]
    },
    {
     "data": {
      "text/plain": [
       "array([0.16035498, 0.05528723, 0.04230132, 0.03535769, 0.03071209,\n",
       "       0.02727667, 0.02459256, 0.02242096, 0.0206203 , 0.01909925,\n",
       "       0.01779532, 0.01666393, 0.01567221, 0.01479531, 0.01401406,\n",
       "       0.01331338, 0.01268124, 0.01210792, 0.01158548, 0.01110734,\n",
       "       0.01066805, 0.01026299, 0.00988828, 0.00954059, 0.00921708,\n",
       "       0.00891527, 0.00863304, 0.00836852, 0.00812008, 0.00788628,\n",
       "       0.00766586, 0.00745769, 0.00726076, 0.00707418, 0.00689715,\n",
       "       0.00672894, 0.00656892, 0.00641648, 0.0062711 , 0.0061323 ,\n",
       "       0.00599963, 0.00587269, 0.00575112, 0.00563458, 0.00552276,\n",
       "       0.00541539, 0.00531218, 0.00521292, 0.00511737, 0.00502532,\n",
       "       0.00493659, 0.00485101, 0.00476839, 0.00468859, 0.00461147,\n",
       "       0.0045369 , 0.00446474, 0.00439489, 0.00432723, 0.00426166,\n",
       "       0.00419808, 0.00413641, 0.00407655, 0.00401844, 0.00396199,\n",
       "       0.00390713, 0.0038538 , 0.00380193, 0.00375146, 0.00370234,\n",
       "       0.00365451, 0.00360793, 0.00356254, 0.00351829, 0.00347515,\n",
       "       0.00343308, 0.00339203, 0.00335197, 0.00331285, 0.00327466,\n",
       "       0.00323735, 0.0032009 , 0.00316528, 0.00313045, 0.00309639,\n",
       "       0.00306308, 0.00303049, 0.0029986 , 0.00296739, 0.00293683,\n",
       "       0.0029069 , 0.00287759, 0.00284887, 0.00282073, 0.00279315,\n",
       "       0.00276611, 0.0027396 , 0.0027136 , 0.0026881 , 0.00266308,\n",
       "       0.00263853, 0.00261444, 0.00259079, 0.00256757, 0.00254477,\n",
       "       0.00252238, 0.00250038, 0.00247878, 0.00245754, 0.00243668,\n",
       "       0.00241617, 0.00239601, 0.00237619, 0.0023567 , 0.00233753,\n",
       "       0.00231868, 0.00230013, 0.00228189, 0.00226393, 0.00224626,\n",
       "       0.00222887, 0.00221174, 0.00219489, 0.00217829, 0.00216195,\n",
       "       0.00214585, 0.00213   , 0.00211438, 0.00209899, 0.00208383,\n",
       "       0.00206889, 0.00205417, 0.00203965, 0.00202535, 0.00201124,\n",
       "       0.00199734, 0.00198363, 0.00197011, 0.00195677, 0.00194362,\n",
       "       0.00193064, 0.00191784, 0.00190521, 0.00189275, 0.00188045,\n",
       "       0.00186832, 0.00185634, 0.00184452, 0.00183285, 0.00182133,\n",
       "       0.00180995, 0.00179872, 0.00178763, 0.00177668, 0.00176586,\n",
       "       0.00175517, 0.00174462, 0.00173419, 0.00172389, 0.00171372,\n",
       "       0.00170366, 0.00169372, 0.0016839 , 0.0016742 , 0.00166461,\n",
       "       0.00165513, 0.00164576, 0.00163649, 0.00162733, 0.00161828,\n",
       "       0.00160932, 0.00160047, 0.00159171, 0.00158305, 0.00157449,\n",
       "       0.00156602, 0.00155764, 0.00154935, 0.00154115, 0.00153304,\n",
       "       0.00152502, 0.00151708, 0.00150922, 0.00150145, 0.00149375,\n",
       "       0.00148614, 0.0014786 , 0.00147114, 0.00146376, 0.00145645,\n",
       "       0.00144922, 0.00144206, 0.00143497, 0.00142795, 0.001421  ,\n",
       "       0.00141412, 0.0014073 , 0.00140055, 0.00139387, 0.00138725,\n",
       "       0.0013807 , 0.00137421, 0.00136777, 0.0013614 , 0.00135509,\n",
       "       0.00134884, 0.00134265, 0.00133651, 0.00133044, 0.00132441,\n",
       "       0.00131845, 0.00131253, 0.00130667, 0.00130086, 0.00129511,\n",
       "       0.00128941, 0.00128375, 0.00127815, 0.0012726 , 0.00126709,\n",
       "       0.00126164, 0.00125623, 0.00125086, 0.00124555, 0.00124028,\n",
       "       0.00123505, 0.00122987, 0.00122473, 0.00121964, 0.00121459,\n",
       "       0.00120958, 0.00120461, 0.00119969, 0.0011948 , 0.00118996,\n",
       "       0.00118515, 0.00118039, 0.00117566, 0.00117097, 0.00116632,\n",
       "       0.00116171, 0.00115713, 0.00115259, 0.00114808, 0.00114362,\n",
       "       0.00113918, 0.00113478, 0.00113042, 0.00112609, 0.00112179,\n",
       "       0.00111753, 0.00111329, 0.00110909, 0.00110493, 0.00110079,\n",
       "       0.00109669, 0.00109261, 0.00108857, 0.00108456, 0.00108058,\n",
       "       0.00107662, 0.0010727 , 0.0010688 , 0.00106494, 0.0010611 ,\n",
       "       0.00105729, 0.00105351, 0.00104975, 0.00104602, 0.00104232,\n",
       "       0.00103865, 0.001035  , 0.00103138, 0.00102778, 0.00102421,\n",
       "       0.00102066, 0.00101714, 0.00101364, 0.00101017, 0.00100672,\n",
       "       0.00100329, 0.00099989, 0.00099651, 0.00099316, 0.00098982,\n",
       "       0.00098651, 0.00098323, 0.00097996, 0.00097672, 0.00097349,\n",
       "       0.00097029, 0.00096712, 0.00096396, 0.00096082, 0.0009577 ,\n",
       "       0.00095461, 0.00095153, 0.00094847, 0.00094544, 0.00094242,\n",
       "       0.00093942, 0.00093645, 0.00093349, 0.00093055, 0.00092763,\n",
       "       0.00092472, 0.00092184, 0.00091897, 0.00091613, 0.0009133 ,\n",
       "       0.00091048, 0.00090769, 0.00090491, 0.00090215, 0.00089941,\n",
       "       0.00089668, 0.00089397, 0.00089128, 0.0008886 , 0.00088594,\n",
       "       0.00088329, 0.00088066, 0.00087805, 0.00087545, 0.00087287,\n",
       "       0.00087031, 0.00086775, 0.00086522, 0.0008627 , 0.00086019,\n",
       "       0.0008577 , 0.00085522, 0.00085276, 0.00085031, 0.00084788,\n",
       "       0.00084546, 0.00084305, 0.00084066, 0.00083828, 0.00083592,\n",
       "       0.00083357, 0.00083123, 0.0008289 , 0.00082659, 0.00082429,\n",
       "       0.00082201, 0.00081974, 0.00081747, 0.00081523, 0.00081299,\n",
       "       0.00081077, 0.00080856, 0.00080636, 0.00080418, 0.000802  ,\n",
       "       0.00079984, 0.00079769, 0.00079555, 0.00079342, 0.00079131,\n",
       "       0.0007892 , 0.00078711, 0.00078503, 0.00078296, 0.0007809 ,\n",
       "       0.00077885, 0.00077681, 0.00077478, 0.00077277, 0.00077076,\n",
       "       0.00076877, 0.00076678, 0.00076481, 0.00076284, 0.00076089,\n",
       "       0.00075894, 0.00075701, 0.00075509, 0.00075317, 0.00075127,\n",
       "       0.00074937, 0.00074749, 0.00074561, 0.00074375, 0.00074189,\n",
       "       0.00074004, 0.00073821, 0.00073638, 0.00073456, 0.00073275,\n",
       "       0.00073095, 0.00072916, 0.00072737, 0.0007256 , 0.00072383,\n",
       "       0.00072207, 0.00072033, 0.00071859, 0.00071685, 0.00071513])"
      ]
     },
     "execution_count": 12,
     "metadata": {},
     "output_type": "execute_result"
    }
   ],
   "source": [
    "X = np.vstack([x1, x2]).T \n",
    "model.fit(X,y)"
   ]
  },
  {
   "cell_type": "code",
   "execution_count": 14,
   "id": "7787c07f-c85c-4eb6-914b-3f4f936285cc",
   "metadata": {
    "tags": []
   },
   "outputs": [
    {
     "data": {
      "text/plain": [
       "array([[ 0.00290445],\n",
       "       [ 0.21927336],\n",
       "       [-0.21159143]])"
      ]
     },
     "execution_count": 14,
     "metadata": {},
     "output_type": "execute_result"
    }
   ],
   "source": [
    "model.weights"
   ]
  },
  {
   "cell_type": "code",
   "execution_count": null,
   "id": "963b6b97-7073-4ac7-9fb1-b902945ab1f7",
   "metadata": {},
   "outputs": [],
   "source": []
  }
 ],
 "metadata": {
  "kernelspec": {
   "display_name": "Python 3 (ipykernel)",
   "language": "python",
   "name": "python3"
  },
  "language_info": {
   "codemirror_mode": {
    "name": "ipython",
    "version": 3
   },
   "file_extension": ".py",
   "mimetype": "text/x-python",
   "name": "python",
   "nbconvert_exporter": "python",
   "pygments_lexer": "ipython3",
   "version": "3.9.18"
  }
 },
 "nbformat": 4,
 "nbformat_minor": 5
}

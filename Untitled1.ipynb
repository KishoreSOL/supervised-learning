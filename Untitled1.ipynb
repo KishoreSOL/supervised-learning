{
 "cells": [
  {
   "cell_type": "code",
   "execution_count": 1,
   "id": "64b1000e-3d7f-4f7c-be14-ab5b41084209",
   "metadata": {
    "tags": []
   },
   "outputs": [
    {
     "name": "stdout",
     "output_type": "stream",
     "text": [
      "Predicted output: [-1.92966667]\n"
     ]
    }
   ],
   "source": [
    "import numpy as np\n",
    "from sklearn.neighbors import KNeighborsRegressor\n",
    "\n",
    "# Given data\n",
    "x1 = np.array([-1.0, -0.5, 1.0, 2.0, 2.5, 0.0])\n",
    "x2 = np.array([-0.5, 0.0, 2.0, 0.5, -1.5, -2.0])\n",
    "y = np.array([-1.947, -0.391, 6.047, 4.527, 1.287, -3.451])\n",
    "\n",
    "# Stack features x1 and x2\n",
    "x = np.column_stack((x1, x2))\n",
    "\n",
    "# Create and fit KNeighborsRegressor\n",
    "knn = KNeighborsRegressor(n_neighbors=3)\n",
    "knn.fit(x, y)\n",
    "\n",
    "# New point to predict\n",
    "p = np.array([[0.5, -1.0]])  # Example point\n",
    "\n",
    "# Predict the output for the new point\n",
    "predicted_output = knn.predict(p)\n",
    "\n",
    "print(\"Predicted output:\", predicted_output)\n"
   ]
  },
  {
   "cell_type": "code",
   "execution_count": null,
   "id": "970a5af9-abf3-49d0-be2b-0f26e692464b",
   "metadata": {},
   "outputs": [],
   "source": []
  }
 ],
 "metadata": {
  "kernelspec": {
   "display_name": "Python 3 (ipykernel)",
   "language": "python",
   "name": "python3"
  },
  "language_info": {
   "codemirror_mode": {
    "name": "ipython",
    "version": 3
   },
   "file_extension": ".py",
   "mimetype": "text/x-python",
   "name": "python",
   "nbconvert_exporter": "python",
   "pygments_lexer": "ipython3",
   "version": "3.9.18"
  }
 },
 "nbformat": 4,
 "nbformat_minor": 5
}

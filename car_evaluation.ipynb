{
 "cells": [
  {
   "cell_type": "markdown",
   "id": "19aa5e31-6682-4f0a-aea7-f178e572d114",
   "metadata": {},
   "source": [
    "THIS NOTEBOOK SHOWS THE IMPLEMENTATION OF RANDOM FOREST ALGORITHM FOR CAR EVALUATION MODEL\n",
    "\n",
    "STEPS:\n",
    "      1] GET THE DATA AND DEFINE THE FEATURES\n",
    "      \n",
    "      2] SPLIT THE DATA INTO TRAIN AND TEST \n",
    "      \n",
    "      3] ENCODE THE DATA\n",
    "      \n",
    "      4] RANDOM FOREST CLASSIFIER WITH DEFAULT PARAMETERS\n",
    "      \n",
    "      5] RANDOM FOREST CLASSIFIER WITH 100 DECISION TREES"
   ]
  },
  {
   "cell_type": "markdown",
   "id": "4cfeb9dd-f25a-4434-ab41-bf0e187d6ff6",
   "metadata": {},
   "source": [
    "IMPORTING ESSENTIAL LIBRARIES"
   ]
  },
  {
   "cell_type": "code",
   "execution_count": 54,
   "id": "bbb4a0dc-23f2-4d9a-9c6a-26c956f3dc74",
   "metadata": {
    "tags": []
   },
   "outputs": [],
   "source": [
    "import numpy as np\n",
    "import pandas as pd\n",
    "import category_encoders as ce\n",
    "from sklearn.ensemble import RandomForestClassifier\n",
    "from sklearn.metrics import accuracy_score\n",
    "import seaborn as sns"
   ]
  },
  {
   "cell_type": "code",
   "execution_count": 55,
   "id": "b58ad027-e77b-4df5-951d-ae4d435d6ea5",
   "metadata": {
    "tags": []
   },
   "outputs": [
    {
     "name": "stdout",
     "output_type": "stream",
     "text": [
      "(1728, 7)\n",
      "       0      1  2  3      4     5      6\n",
      "0  vhigh  vhigh  2  2  small   low  unacc\n",
      "1  vhigh  vhigh  2  2  small   med  unacc\n",
      "2  vhigh  vhigh  2  2  small  high  unacc\n",
      "3  vhigh  vhigh  2  2    med   low  unacc\n",
      "4  vhigh  vhigh  2  2    med   med  unacc\n"
     ]
    }
   ],
   "source": [
    "data=pd.read_csv(\"car_evaluation.csv\",header=None)\n",
    "print(data.shape)\n",
    "print(data.head())"
   ]
  },
  {
   "cell_type": "markdown",
   "id": "cb69cd0f-dcb1-4f8c-8a9b-ea405ce8acc5",
   "metadata": {},
   "source": [
    "."
   ]
  },
  {
   "cell_type": "markdown",
   "id": "cc81ee35-55cd-41e3-bf7a-b4781416d137",
   "metadata": {},
   "source": [
    "NAMING THE FEATURES FOR THE CAR EVALUATION DATA "
   ]
  },
  {
   "cell_type": "code",
   "execution_count": 56,
   "id": "02f21b06-9473-4c55-8404-1ac192d34491",
   "metadata": {
    "tags": []
   },
   "outputs": [
    {
     "name": "stdout",
     "output_type": "stream",
     "text": [
      "  buying  maint doors persons lug_boot safety  class\n",
      "0  vhigh  vhigh     2       2    small    low  unacc\n",
      "1  vhigh  vhigh     2       2    small    med  unacc\n",
      "2  vhigh  vhigh     2       2    small   high  unacc\n",
      "3  vhigh  vhigh     2       2      med    low  unacc\n",
      "4  vhigh  vhigh     2       2      med    med  unacc\n"
     ]
    }
   ],
   "source": [
    "col_names = ['buying', 'maint', 'doors', 'persons', 'lug_boot', 'safety', 'class']\n",
    "data.columns = col_names\n",
    "print(data.head())"
   ]
  },
  {
   "cell_type": "markdown",
   "id": "8860e439-4948-47ca-a170-f7df73ea8c10",
   "metadata": {},
   "source": [
    "."
   ]
  },
  {
   "cell_type": "markdown",
   "id": "a8071858-70c8-4a74-aa33-fad8c45acb88",
   "metadata": {},
   "source": [
    "TRAIN TEST SPLIT"
   ]
  },
  {
   "cell_type": "code",
   "execution_count": 57,
   "id": "091276d1-bc46-4849-8e41-b1275f5ef280",
   "metadata": {
    "tags": []
   },
   "outputs": [],
   "source": [
    "X = data.drop(['class'], axis=1)\n",
    "y = data['class']\n",
    "from sklearn.model_selection import train_test_split\n",
    "X_train, X_test, y_train, y_test = train_test_split(X, y, test_size = 0.33, random_state = 42)"
   ]
  },
  {
   "cell_type": "markdown",
   "id": "22f961d4-d126-458d-a69b-a4ce9a1a8c08",
   "metadata": {},
   "source": [
    "."
   ]
  },
  {
   "cell_type": "markdown",
   "id": "8afde062-b4af-40b1-b8c6-6a98e7a0c6cd",
   "metadata": {
    "tags": []
   },
   "source": [
    "ENCODING THE DATA USING CATEGORICAL ENCODER"
   ]
  },
  {
   "cell_type": "code",
   "execution_count": 58,
   "id": "0e94b9ac-a78d-4480-b653-79cb1f25f4cd",
   "metadata": {},
   "outputs": [],
   "source": [
    "encoder=ce.OrdinalEncoder(cols=['buying', 'maint', 'doors', 'persons', 'lug_boot', 'safety'])\n",
    "encoder.fit(X_train)\n",
    "X_train=encoder.transform(X_train)\n",
    "X_test=encoder.transform(X_test)"
   ]
  },
  {
   "cell_type": "markdown",
   "id": "2c7c6390-c27f-4c5e-a208-89aa9a19e47e",
   "metadata": {
    "tags": []
   },
   "source": [
    "."
   ]
  },
  {
   "cell_type": "markdown",
   "id": "7ff938a6-24e0-4d24-b60d-98924e06a710",
   "metadata": {
    "tags": []
   },
   "source": [
    " RANDOM FOREST CLASSIFIER WITH DEFAULT PARAMETERS [10 DECISION TREES]"
   ]
  },
  {
   "cell_type": "code",
   "execution_count": 59,
   "id": "bb78a538-6307-44ff-b446-97fac8a145bf",
   "metadata": {
    "tags": []
   },
   "outputs": [],
   "source": [
    "rfc=RandomForestClassifier()\n",
    "rfc.fit(X_train,y_train)\n",
    "y_pred=rfc.predict(X_test)"
   ]
  },
  {
   "cell_type": "code",
   "execution_count": 60,
   "id": "6e41a543-d7d7-45d4-b34e-fcf68dd177af",
   "metadata": {
    "tags": []
   },
   "outputs": [
    {
     "name": "stdout",
     "output_type": "stream",
     "text": [
      "The accuracy score of the default number of parameters is  0.9439579684763573\n"
     ]
    }
   ],
   "source": [
    "print(\"The accuracy score of the default number of parameters is \" , accuracy_score(y_pred,y_test))"
   ]
  },
  {
   "cell_type": "markdown",
   "id": "d0e36481-4323-47bd-ba5f-4686242dd890",
   "metadata": {},
   "source": [
    "."
   ]
  },
  {
   "cell_type": "markdown",
   "id": "81db1680-cc73-4b69-855a-353cf65882c5",
   "metadata": {
    "tags": []
   },
   "source": [
    "RANDOM FOREST CLASSIFIER WITH 100 DECISION TREES"
   ]
  },
  {
   "cell_type": "code",
   "execution_count": 61,
   "id": "a3b7f7a4-cebd-4171-989d-f60330eaccfd",
   "metadata": {
    "tags": []
   },
   "outputs": [],
   "source": [
    "rfc_100=RandomForestClassifier(n_estimators=100, random_state=0)\n",
    "rfc_100.fit(X_train,y_train)\n",
    "y_pred_100=rfc.predict(X_test)"
   ]
  },
  {
   "cell_type": "code",
   "execution_count": 62,
   "id": "d8d15084-f7ed-46b5-9add-37eabb9ea524",
   "metadata": {
    "tags": []
   },
   "outputs": [
    {
     "name": "stdout",
     "output_type": "stream",
     "text": [
      "The accuracy score of the default number of parameters is  0.9439579684763573\n"
     ]
    }
   ],
   "source": [
    "print(\"The accuracy score of the default number of parameters is \" , accuracy_score(y_pred_100,y_test))"
   ]
  },
  {
   "cell_type": "code",
   "execution_count": 63,
   "id": "798bbbbc-bb3f-46fe-8a52-b2035d85f099",
   "metadata": {
    "tags": []
   },
   "outputs": [
    {
     "data": {
      "text/plain": [
       "safety      0.296450\n",
       "persons     0.242734\n",
       "maint       0.146480\n",
       "buying      0.138759\n",
       "lug_boot    0.101254\n",
       "doors       0.074322\n",
       "dtype: float64"
      ]
     },
     "execution_count": 63,
     "metadata": {},
     "output_type": "execute_result"
    }
   ],
   "source": [
    "feature_scores = pd.Series(rfc.feature_importances_, index=X_train.columns).sort_values(ascending=False)\n",
    "\n",
    "feature_scores"
   ]
  },
  {
   "cell_type": "code",
   "execution_count": 66,
   "id": "fe044c7f-9a37-4126-b56a-9e64914afcc7",
   "metadata": {
    "tags": []
   },
   "outputs": [
    {
     "name": "stderr",
     "output_type": "stream",
     "text": [
      "C:\\Users\\Sathish\\ML - 2\\envs\\tensorflow\\lib\\site-packages\\seaborn\\_oldcore.py:1498: FutureWarning: is_categorical_dtype is deprecated and will be removed in a future version. Use isinstance(dtype, CategoricalDtype) instead\n",
      "  if pd.api.types.is_categorical_dtype(vector):\n",
      "C:\\Users\\Sathish\\ML - 2\\envs\\tensorflow\\lib\\site-packages\\seaborn\\_oldcore.py:1498: FutureWarning: is_categorical_dtype is deprecated and will be removed in a future version. Use isinstance(dtype, CategoricalDtype) instead\n",
      "  if pd.api.types.is_categorical_dtype(vector):\n",
      "C:\\Users\\Sathish\\ML - 2\\envs\\tensorflow\\lib\\site-packages\\seaborn\\_oldcore.py:1498: FutureWarning: is_categorical_dtype is deprecated and will be removed in a future version. Use isinstance(dtype, CategoricalDtype) instead\n",
      "  if pd.api.types.is_categorical_dtype(vector):\n"
     ]
    },
    {
     "data": {
      "image/png": "[encoded data removed]",
      "text/plain": [
       "<Figure size 640x480 with 1 Axes>"
      ]
     },
     "metadata": {},
     "output_type": "display_data"
    }
   ],
   "source": [
    "sns.barplot(x=feature_scores, y=feature_scores.index)\n",
    "plt.xlabel('Feature Importance Score')\n",
    "plt.ylabel('Features')\n",
    "plt.title(\"Visualizing Important Features\")\n",
    "plt.show()"
   ]
  }
 ],
 "metadata": {
  "kernelspec": {
   "display_name": "Python 3 (ipykernel)",
   "language": "python",
   "name": "python3"
  },
  "language_info": {
   "codemirror_mode": {
    "name": "ipython",
    "version": 3
   },
   "file_extension": ".py",
   "mimetype": "text/x-python",
   "name": "python",
   "nbconvert_exporter": "python",
   "pygments_lexer": "ipython3",
   "version": "3.9.18"
  }
 },
 "nbformat": 4,
 "nbformat_minor": 5
}

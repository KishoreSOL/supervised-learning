{
 "cells": [
  {
   "cell_type": "markdown",
   "id": "14f84544-8d84-44e0-bd90-e44f87450d59",
   "metadata": {},
   "source": [
    "Simple linear regression:\n",
    "    The dependent varaible is dependent on a single independent feature  is called simple linear regression\n",
    "    and when the regression is linear then it is called simple linear regression\n",
    "    \n",
    "    y=m*x+c\n",
    "    \n",
    "    \n",
    "    "
   ]
  },
  {
   "cell_type": "markdown",
   "id": "9312913a-6455-434d-b5e0-3d4a545ae0c5",
   "metadata": {},
   "source": [
    "Importing the essential dependencies"
   ]
  },
  {
   "cell_type": "code",
   "execution_count": 48,
   "id": "399d30ab-a159-40d8-b843-c664f1070d17",
   "metadata": {
    "tags": []
   },
   "outputs": [],
   "source": [
    "import numpy as np\n",
    "import pandas as pd\n"
   ]
  },
  {
   "cell_type": "markdown",
   "id": "c965a738-b09c-4542-a3fa-20c106dd0f3a",
   "metadata": {},
   "source": [
    "Getting the data and training the data using gradient descent to find the best parameter for the data"
   ]
  },
  {
   "cell_type": "code",
   "execution_count": 68,
   "id": "ffb27420-6b38-4e3a-b819-8f94f0c26cf3",
   "metadata": {
    "tags": []
   },
   "outputs": [
    {
     "data": {
      "text/html": [
       "<div>\n",
       "<style scoped>\n",
       "    .dataframe tbody tr th:only-of-type {\n",
       "        vertical-align: middle;\n",
       "    }\n",
       "\n",
       "    .dataframe tbody tr th {\n",
       "        vertical-align: top;\n",
       "    }\n",
       "\n",
       "    .dataframe thead th {\n",
       "        text-align: right;\n",
       "    }\n",
       "</style>\n",
       "<table border=\"1\" class=\"dataframe\">\n",
       "  <thead>\n",
       "    <tr style=\"text-align: right;\">\n",
       "      <th></th>\n",
       "      <th>MODELYEAR</th>\n",
       "      <th>MAKE</th>\n",
       "      <th>MODEL</th>\n",
       "      <th>VEHICLECLASS</th>\n",
       "      <th>ENGINESIZE</th>\n",
       "      <th>CYLINDERS</th>\n",
       "      <th>TRANSMISSION</th>\n",
       "      <th>FUELTYPE</th>\n",
       "      <th>FUELCONSUMPTION_CITY</th>\n",
       "      <th>FUELCONSUMPTION_HWY</th>\n",
       "      <th>FUELCONSUMPTION_COMB</th>\n",
       "      <th>FUELCONSUMPTION_COMB_MPG</th>\n",
       "      <th>CO2EMISSIONS</th>\n",
       "    </tr>\n",
       "  </thead>\n",
       "  <tbody>\n",
       "    <tr>\n",
       "      <th>0</th>\n",
       "      <td>2014</td>\n",
       "      <td>ACURA</td>\n",
       "      <td>ILX</td>\n",
       "      <td>COMPACT</td>\n",
       "      <td>2.0</td>\n",
       "      <td>4</td>\n",
       "      <td>AS5</td>\n",
       "      <td>Z</td>\n",
       "      <td>9.9</td>\n",
       "      <td>6.7</td>\n",
       "      <td>8.5</td>\n",
       "      <td>33</td>\n",
       "      <td>196</td>\n",
       "    </tr>\n",
       "    <tr>\n",
       "      <th>1</th>\n",
       "      <td>2014</td>\n",
       "      <td>ACURA</td>\n",
       "      <td>ILX</td>\n",
       "      <td>COMPACT</td>\n",
       "      <td>2.4</td>\n",
       "      <td>4</td>\n",
       "      <td>M6</td>\n",
       "      <td>Z</td>\n",
       "      <td>11.2</td>\n",
       "      <td>7.7</td>\n",
       "      <td>9.6</td>\n",
       "      <td>29</td>\n",
       "      <td>221</td>\n",
       "    </tr>\n",
       "    <tr>\n",
       "      <th>2</th>\n",
       "      <td>2014</td>\n",
       "      <td>ACURA</td>\n",
       "      <td>ILX HYBRID</td>\n",
       "      <td>COMPACT</td>\n",
       "      <td>1.5</td>\n",
       "      <td>4</td>\n",
       "      <td>AV7</td>\n",
       "      <td>Z</td>\n",
       "      <td>6.0</td>\n",
       "      <td>5.8</td>\n",
       "      <td>5.9</td>\n",
       "      <td>48</td>\n",
       "      <td>136</td>\n",
       "    </tr>\n",
       "    <tr>\n",
       "      <th>3</th>\n",
       "      <td>2014</td>\n",
       "      <td>ACURA</td>\n",
       "      <td>MDX 4WD</td>\n",
       "      <td>SUV - SMALL</td>\n",
       "      <td>3.5</td>\n",
       "      <td>6</td>\n",
       "      <td>AS6</td>\n",
       "      <td>Z</td>\n",
       "      <td>12.7</td>\n",
       "      <td>9.1</td>\n",
       "      <td>11.1</td>\n",
       "      <td>25</td>\n",
       "      <td>255</td>\n",
       "    </tr>\n",
       "    <tr>\n",
       "      <th>4</th>\n",
       "      <td>2014</td>\n",
       "      <td>ACURA</td>\n",
       "      <td>RDX AWD</td>\n",
       "      <td>SUV - SMALL</td>\n",
       "      <td>3.5</td>\n",
       "      <td>6</td>\n",
       "      <td>AS6</td>\n",
       "      <td>Z</td>\n",
       "      <td>12.1</td>\n",
       "      <td>8.7</td>\n",
       "      <td>10.6</td>\n",
       "      <td>27</td>\n",
       "      <td>244</td>\n",
       "    </tr>\n",
       "  </tbody>\n",
       "</table>\n",
       "</div>"
      ],
      "text/plain": [
       "   MODELYEAR   MAKE       MODEL VEHICLECLASS  ENGINESIZE  CYLINDERS  \\\n",
       "0       2014  ACURA         ILX      COMPACT         2.0          4   \n",
       "1       2014  ACURA         ILX      COMPACT         2.4          4   \n",
       "2       2014  ACURA  ILX HYBRID      COMPACT         1.5          4   \n",
       "3       2014  ACURA     MDX 4WD  SUV - SMALL         3.5          6   \n",
       "4       2014  ACURA     RDX AWD  SUV - SMALL         3.5          6   \n",
       "\n",
       "  TRANSMISSION FUELTYPE  FUELCONSUMPTION_CITY  FUELCONSUMPTION_HWY  \\\n",
       "0          AS5        Z                   9.9                  6.7   \n",
       "1           M6        Z                  11.2                  7.7   \n",
       "2          AV7        Z                   6.0                  5.8   \n",
       "3          AS6        Z                  12.7                  9.1   \n",
       "4          AS6        Z                  12.1                  8.7   \n",
       "\n",
       "   FUELCONSUMPTION_COMB  FUELCONSUMPTION_COMB_MPG  CO2EMISSIONS  \n",
       "0                   8.5                        33           196  \n",
       "1                   9.6                        29           221  \n",
       "2                   5.9                        48           136  \n",
       "3                  11.1                        25           255  \n",
       "4                  10.6                        27           244  "
      ]
     },
     "execution_count": 68,
     "metadata": {},
     "output_type": "execute_result"
    }
   ],
   "source": [
    "data=pd.read_csv(\"co2.csv\")\n",
    "x=data[\"ENGINESIZE\"]\n",
    "y=data[\"CO2EMISSIONS\"]\n",
    "data.head()"
   ]
  },
  {
   "cell_type": "markdown",
   "id": "72b3c679-4d67-4122-b889-139de1f7ad27",
   "metadata": {
    "tags": []
   },
   "source": [
    "Defining the loss function using the Mean squared error method "
   ]
  },
  {
   "cell_type": "code",
   "execution_count": 50,
   "id": "ae017cb6-0305-471d-884f-35d760c4192f",
   "metadata": {
    "tags": []
   },
   "outputs": [],
   "source": [
    "def loss(w,b,x,y):\n",
    "    n=len(x)\n",
    "    y_pred=w*x+b\n",
    "    loss=(1/n)*sum(((y-y_pred)**2))\n",
    "    return loss"
   ]
  },
  {
   "cell_type": "markdown",
   "id": "b4f379b6-02f5-4732-b514-751e8e86d4e5",
   "metadata": {
    "tags": []
   },
   "source": [
    "Defining the gradient descent function "
   ]
  },
  {
   "cell_type": "code",
   "execution_count": 59,
   "id": "cc6b6b09-f5b4-4bf9-b341-b0e2eda1fbe9",
   "metadata": {
    "tags": []
   },
   "outputs": [],
   "source": [
    "def gradient_descent(x,y):\n",
    "    w=0\n",
    "    b=0\n",
    "    n=len(x)\n",
    "    for i in range(5000):\n",
    "        y_pred=w*x+b\n",
    "        \n",
    "        d_w=(-2/n)*sum(x*(y-y_pred))\n",
    "        d_b=(-2/n)*sum(y-y_pred)\n",
    "        \n",
    "        w=w-(0.001*d_w)\n",
    "        b=b-(0.001*d_b)\n",
    "        if(i%1000==0):\n",
    "            print(\"The loss after %d iterations is %f\" %(i,loss(w,b,x,y)))\n",
    "    return w,b"
   ]
  },
  {
   "cell_type": "code",
   "execution_count": 74,
   "id": "7684852b-593d-41bd-8173-b645e86e95c2",
   "metadata": {
    "tags": []
   },
   "outputs": [],
   "source": [
    "def predict(test,w,b):\n",
    "    y1=w*test+b\n",
    "    return y1\n"
   ]
  },
  {
   "cell_type": "code",
   "execution_count": null,
   "id": "29fc4456-363b-4a74-ae8f-88345e71a9d8",
   "metadata": {},
   "outputs": [],
   "source": []
  },
  {
   "cell_type": "code",
   "execution_count": 79,
   "id": "40ef004e-d78b-4f3a-a821-c79657b2a4e1",
   "metadata": {
    "tags": []
   },
   "outputs": [
    {
     "name": "stdout",
     "output_type": "stream",
     "text": [
      "The loss after 0 iterations is 65952.986643\n",
      "The loss after 1000 iterations is 1950.502682\n",
      "The loss after 2000 iterations is 1514.227115\n",
      "The loss after 3000 iterations is 1267.493995\n",
      "The loss after 4000 iterations is 1127.955508\n",
      "The parameter w is  45.79285721530965 The parameter b is  99.2851784116717\n",
      "the predicted Co2 emission for engine size 3.5 is 259.560179\n"
     ]
    }
   ],
   "source": [
    "w1,b1=gradient_descent(x,y)\n",
    "print(\"The parameter w is \",w1,\"The parameter b is \",b1)\n",
    "\n",
    "y_pred=predict(np.array([3.5]),w1,b1)\n",
    "print(\"the predicted Co2 emission for engine size 3.5 is %f\"%y_pred[0])"
   ]
  },
  {
   "cell_type": "code",
   "execution_count": null,
   "id": "66f10c80-8917-4941-8b5d-ce21a41a338f",
   "metadata": {},
   "outputs": [],
   "source": []
  }
 ],
 "metadata": {
  "kernelspec": {
   "display_name": "Python 3 (ipykernel)",
   "language": "python",
   "name": "python3"
  },
  "language_info": {
   "codemirror_mode": {
    "name": "ipython",
    "version": 3
   },
   "file_extension": ".py",
   "mimetype": "text/x-python",
   "name": "python",
   "nbconvert_exporter": "python",
   "pygments_lexer": "ipython3",
   "version": "3.9.18"
  }
 },
 "nbformat": 4,
 "nbformat_minor": 5
}

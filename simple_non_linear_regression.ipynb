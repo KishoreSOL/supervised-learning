{
 "cells": [
  {
   "cell_type": "markdown",
   "id": "003b185c-95e1-4c8b-a80f-5154eb79dc4d",
   "metadata": {},
   "source": [
    "Simple Non-linear regression: The dependent varaible is dependent on a single independent feature is called simple linear regression and when the regression is non-linear then it is called simple NON-linear regression\n",
    "\n",
    "y=(m*(x**2))+c"
   ]
  },
  {
   "cell_type": "markdown",
   "id": "2e7eae51-7447-415b-8922-c6c084622fa2",
   "metadata": {},
   "source": [
    "Importing the essential dependencies"
   ]
  },
  {
   "cell_type": "code",
   "execution_count": 1,
   "id": "5e28289f-1575-42b7-830c-26d39d5c805d",
   "metadata": {
    "tags": []
   },
   "outputs": [],
   "source": [
    "import numpy as np\n",
    "import pandas as pd\n"
   ]
  },
  {
   "cell_type": "markdown",
   "id": "4d4b7dc8-1793-43e8-82b6-83af333c768c",
   "metadata": {},
   "source": [
    "Getting the data and training the data using gradient descent to find the best parameter for the data"
   ]
  },
  {
   "cell_type": "code",
   "execution_count": 2,
   "id": "e6943bed-4f17-40e0-8def-73328ee02c30",
   "metadata": {
    "tags": []
   },
   "outputs": [
    {
     "data": {
      "text/html": [
       "<div>\n",
       "<style scoped>\n",
       "    .dataframe tbody tr th:only-of-type {\n",
       "        vertical-align: middle;\n",
       "    }\n",
       "\n",
       "    .dataframe tbody tr th {\n",
       "        vertical-align: top;\n",
       "    }\n",
       "\n",
       "    .dataframe thead th {\n",
       "        text-align: right;\n",
       "    }\n",
       "</style>\n",
       "<table border=\"1\" class=\"dataframe\">\n",
       "  <thead>\n",
       "    <tr style=\"text-align: right;\">\n",
       "      <th></th>\n",
       "      <th>MODELYEAR</th>\n",
       "      <th>MAKE</th>\n",
       "      <th>MODEL</th>\n",
       "      <th>VEHICLECLASS</th>\n",
       "      <th>ENGINESIZE</th>\n",
       "      <th>CYLINDERS</th>\n",
       "      <th>TRANSMISSION</th>\n",
       "      <th>FUELTYPE</th>\n",
       "      <th>FUELCONSUMPTION_CITY</th>\n",
       "      <th>FUELCONSUMPTION_HWY</th>\n",
       "      <th>FUELCONSUMPTION_COMB</th>\n",
       "      <th>FUELCONSUMPTION_COMB_MPG</th>\n",
       "      <th>CO2EMISSIONS</th>\n",
       "    </tr>\n",
       "  </thead>\n",
       "  <tbody>\n",
       "    <tr>\n",
       "      <th>0</th>\n",
       "      <td>2014</td>\n",
       "      <td>ACURA</td>\n",
       "      <td>ILX</td>\n",
       "      <td>COMPACT</td>\n",
       "      <td>2.0</td>\n",
       "      <td>4</td>\n",
       "      <td>AS5</td>\n",
       "      <td>Z</td>\n",
       "      <td>9.9</td>\n",
       "      <td>6.7</td>\n",
       "      <td>8.5</td>\n",
       "      <td>33</td>\n",
       "      <td>196</td>\n",
       "    </tr>\n",
       "    <tr>\n",
       "      <th>1</th>\n",
       "      <td>2014</td>\n",
       "      <td>ACURA</td>\n",
       "      <td>ILX</td>\n",
       "      <td>COMPACT</td>\n",
       "      <td>2.4</td>\n",
       "      <td>4</td>\n",
       "      <td>M6</td>\n",
       "      <td>Z</td>\n",
       "      <td>11.2</td>\n",
       "      <td>7.7</td>\n",
       "      <td>9.6</td>\n",
       "      <td>29</td>\n",
       "      <td>221</td>\n",
       "    </tr>\n",
       "    <tr>\n",
       "      <th>2</th>\n",
       "      <td>2014</td>\n",
       "      <td>ACURA</td>\n",
       "      <td>ILX HYBRID</td>\n",
       "      <td>COMPACT</td>\n",
       "      <td>1.5</td>\n",
       "      <td>4</td>\n",
       "      <td>AV7</td>\n",
       "      <td>Z</td>\n",
       "      <td>6.0</td>\n",
       "      <td>5.8</td>\n",
       "      <td>5.9</td>\n",
       "      <td>48</td>\n",
       "      <td>136</td>\n",
       "    </tr>\n",
       "    <tr>\n",
       "      <th>3</th>\n",
       "      <td>2014</td>\n",
       "      <td>ACURA</td>\n",
       "      <td>MDX 4WD</td>\n",
       "      <td>SUV - SMALL</td>\n",
       "      <td>3.5</td>\n",
       "      <td>6</td>\n",
       "      <td>AS6</td>\n",
       "      <td>Z</td>\n",
       "      <td>12.7</td>\n",
       "      <td>9.1</td>\n",
       "      <td>11.1</td>\n",
       "      <td>25</td>\n",
       "      <td>255</td>\n",
       "    </tr>\n",
       "    <tr>\n",
       "      <th>4</th>\n",
       "      <td>2014</td>\n",
       "      <td>ACURA</td>\n",
       "      <td>RDX AWD</td>\n",
       "      <td>SUV - SMALL</td>\n",
       "      <td>3.5</td>\n",
       "      <td>6</td>\n",
       "      <td>AS6</td>\n",
       "      <td>Z</td>\n",
       "      <td>12.1</td>\n",
       "      <td>8.7</td>\n",
       "      <td>10.6</td>\n",
       "      <td>27</td>\n",
       "      <td>244</td>\n",
       "    </tr>\n",
       "  </tbody>\n",
       "</table>\n",
       "</div>"
      ],
      "text/plain": [
       "   MODELYEAR   MAKE       MODEL VEHICLECLASS  ENGINESIZE  CYLINDERS  \\\n",
       "0       2014  ACURA         ILX      COMPACT         2.0          4   \n",
       "1       2014  ACURA         ILX      COMPACT         2.4          4   \n",
       "2       2014  ACURA  ILX HYBRID      COMPACT         1.5          4   \n",
       "3       2014  ACURA     MDX 4WD  SUV - SMALL         3.5          6   \n",
       "4       2014  ACURA     RDX AWD  SUV - SMALL         3.5          6   \n",
       "\n",
       "  TRANSMISSION FUELTYPE  FUELCONSUMPTION_CITY  FUELCONSUMPTION_HWY  \\\n",
       "0          AS5        Z                   9.9                  6.7   \n",
       "1           M6        Z                  11.2                  7.7   \n",
       "2          AV7        Z                   6.0                  5.8   \n",
       "3          AS6        Z                  12.7                  9.1   \n",
       "4          AS6        Z                  12.1                  8.7   \n",
       "\n",
       "   FUELCONSUMPTION_COMB  FUELCONSUMPTION_COMB_MPG  CO2EMISSIONS  \n",
       "0                   8.5                        33           196  \n",
       "1                   9.6                        29           221  \n",
       "2                   5.9                        48           136  \n",
       "3                  11.1                        25           255  \n",
       "4                  10.6                        27           244  "
      ]
     },
     "execution_count": 2,
     "metadata": {},
     "output_type": "execute_result"
    }
   ],
   "source": [
    "data=pd.read_csv(\"co2.csv\")\n",
    "x=data[\"ENGINESIZE\"]\n",
    "y=data[\"CO2EMISSIONS\"]\n",
    "data.head()"
   ]
  },
  {
   "cell_type": "markdown",
   "id": "a320a0a4-a335-4415-a479-1613df7b99a3",
   "metadata": {},
   "source": [
    "Defining the loss function using the Mean squared error method"
   ]
  },
  {
   "cell_type": "code",
   "execution_count": 3,
   "id": "f12ef205-ecb4-43a9-a2a7-13d8da26481c",
   "metadata": {
    "tags": []
   },
   "outputs": [],
   "source": [
    "def loss(w,b,x,y):\n",
    "    n=len(x)\n",
    "    y_pred=w*(x**2)+b\n",
    "    loss=(1/n)*sum(((y-y_pred)**2))\n",
    "    return loss"
   ]
  },
  {
   "cell_type": "markdown",
   "id": "c2b7f63c-7bf5-4d76-b685-4e500fda3e59",
   "metadata": {
    "tags": []
   },
   "source": [
    "Defining gradient descent for the formula y=m*(x**2)+b"
   ]
  },
  {
   "cell_type": "code",
   "execution_count": 4,
   "id": "e11aecd7-2060-4852-b7d5-13b0ec7e3fcf",
   "metadata": {
    "tags": []
   },
   "outputs": [],
   "source": [
    "def gradient_descent(x,y):\n",
    "    w=0\n",
    "    b=0\n",
    "    n=len(x)\n",
    "    for i in range(5000):\n",
    "        y_pred=w*(x**2)+b\n",
    "        \n",
    "        d_w=(-2/n)*sum(x*(y-y_pred))\n",
    "        d_b=(-2/n)*sum(y-y_pred)\n",
    "        \n",
    "        w=w-(0.001*d_w)\n",
    "        b=b-(0.001*d_b)\n",
    "        if(i%1000==0):\n",
    "            print(\"The loss after %d iterations is %f\" %(i,loss(w,b,x,y)))\n",
    "    return w,b"
   ]
  },
  {
   "cell_type": "code",
   "execution_count": 5,
   "id": "7aa4e331-90d7-4fd3-940e-d2718454c155",
   "metadata": {
    "tags": []
   },
   "outputs": [],
   "source": [
    "def predict(test,w,b):\n",
    "    y1=w*(test**2)+b\n",
    "    return y1\n"
   ]
  },
  {
   "cell_type": "code",
   "execution_count": 6,
   "id": "6fcafb7f-4aa6-4f14-af92-c15e7b8afdc0",
   "metadata": {
    "tags": []
   },
   "outputs": [
    {
     "name": "stdout",
     "output_type": "stream",
     "text": [
      "The loss after 0 iterations is 55615.014183\n",
      "The loss after 1000 iterations is 6981.754816\n",
      "The loss after 2000 iterations is 3377.447724\n",
      "The loss after 3000 iterations is 2017.957786\n",
      "The loss after 4000 iterations is 1496.862808\n",
      "The parameter w is  6.072270800866514 The parameter b is  172.31203113415359\n",
      "the predicted Co2 emission for engine size 3.5 is 246.697348\n"
     ]
    }
   ],
   "source": [
    "w1,b1=gradient_descent(x,y)\n",
    "print(\"The parameter w is \",w1,\"The parameter b is \",b1)\n",
    "\n",
    "y_pred=predict(np.array([3.5]),w1,b1)\n",
    "print(\"the predicted Co2 emission for engine size 3.5 is %f\"%y_pred[0])"
   ]
  },
  {
   "cell_type": "code",
   "execution_count": null,
   "id": "09300c75-3b9e-4ca2-b1d4-5a5e441b5474",
   "metadata": {},
   "outputs": [],
   "source": []
  }
 ],
 "metadata": {
  "kernelspec": {
   "display_name": "Python 3 (ipykernel)",
   "language": "python",
   "name": "python3"
  },
  "language_info": {
   "codemirror_mode": {
    "name": "ipython",
    "version": 3
   },
   "file_extension": ".py",
   "mimetype": "text/x-python",
   "name": "python",
   "nbconvert_exporter": "python",
   "pygments_lexer": "ipython3",
   "version": "3.9.18"
  }
 },
 "nbformat": 4,
 "nbformat_minor": 5
}

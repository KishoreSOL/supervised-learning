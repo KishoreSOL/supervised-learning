{
 "cells": [
  {
   "cell_type": "markdown",
   "id": "afd965dc-58e2-44ad-a954-33dd489ae487",
   "metadata": {},
   "source": [
    "Multiple non-linear regression: The dependent varaible is dependent on a *multiple* independent feature is called multiple linear regression and when the regression is not linear then it is called mutiple non linear regression\n",
    "\n",
    "y=m1*(x1***2) + m2*x2 + c"
   ]
  },
  {
   "cell_type": "markdown",
   "id": "cd48c8e5-db8a-4620-a754-2b6771cc4238",
   "metadata": {},
   "source": [
    "Importing the essential dependencies"
   ]
  },
  {
   "cell_type": "code",
   "execution_count": 1,
   "id": "ccb3de15-0ea3-44e6-bb1b-f69c3e62d315",
   "metadata": {
    "tags": []
   },
   "outputs": [],
   "source": [
    "import numpy as np\n",
    "import pandas as pd\n"
   ]
  },
  {
   "cell_type": "markdown",
   "id": "b18cd424-1018-4962-b804-f6e6aec2db35",
   "metadata": {},
   "source": [
    "Getting the data and training the data using gradient descent to find the best parameter for the data"
   ]
  },
  {
   "cell_type": "code",
   "execution_count": 2,
   "id": "3d2a9d64-0e13-4685-b772-c19d2084f9dc",
   "metadata": {
    "tags": []
   },
   "outputs": [
    {
     "data": {
      "text/html": [
       "<div>\n",
       "<style scoped>\n",
       "    .dataframe tbody tr th:only-of-type {\n",
       "        vertical-align: middle;\n",
       "    }\n",
       "\n",
       "    .dataframe tbody tr th {\n",
       "        vertical-align: top;\n",
       "    }\n",
       "\n",
       "    .dataframe thead th {\n",
       "        text-align: right;\n",
       "    }\n",
       "</style>\n",
       "<table border=\"1\" class=\"dataframe\">\n",
       "  <thead>\n",
       "    <tr style=\"text-align: right;\">\n",
       "      <th></th>\n",
       "      <th>MODELYEAR</th>\n",
       "      <th>MAKE</th>\n",
       "      <th>MODEL</th>\n",
       "      <th>VEHICLECLASS</th>\n",
       "      <th>ENGINESIZE</th>\n",
       "      <th>CYLINDERS</th>\n",
       "      <th>TRANSMISSION</th>\n",
       "      <th>FUELTYPE</th>\n",
       "      <th>FUELCONSUMPTION_CITY</th>\n",
       "      <th>FUELCONSUMPTION_HWY</th>\n",
       "      <th>FUELCONSUMPTION_COMB</th>\n",
       "      <th>FUELCONSUMPTION_COMB_MPG</th>\n",
       "      <th>CO2EMISSIONS</th>\n",
       "    </tr>\n",
       "  </thead>\n",
       "  <tbody>\n",
       "    <tr>\n",
       "      <th>0</th>\n",
       "      <td>2014</td>\n",
       "      <td>ACURA</td>\n",
       "      <td>ILX</td>\n",
       "      <td>COMPACT</td>\n",
       "      <td>2.0</td>\n",
       "      <td>4</td>\n",
       "      <td>AS5</td>\n",
       "      <td>Z</td>\n",
       "      <td>9.9</td>\n",
       "      <td>6.7</td>\n",
       "      <td>8.5</td>\n",
       "      <td>33</td>\n",
       "      <td>196</td>\n",
       "    </tr>\n",
       "    <tr>\n",
       "      <th>1</th>\n",
       "      <td>2014</td>\n",
       "      <td>ACURA</td>\n",
       "      <td>ILX</td>\n",
       "      <td>COMPACT</td>\n",
       "      <td>2.4</td>\n",
       "      <td>4</td>\n",
       "      <td>M6</td>\n",
       "      <td>Z</td>\n",
       "      <td>11.2</td>\n",
       "      <td>7.7</td>\n",
       "      <td>9.6</td>\n",
       "      <td>29</td>\n",
       "      <td>221</td>\n",
       "    </tr>\n",
       "    <tr>\n",
       "      <th>2</th>\n",
       "      <td>2014</td>\n",
       "      <td>ACURA</td>\n",
       "      <td>ILX HYBRID</td>\n",
       "      <td>COMPACT</td>\n",
       "      <td>1.5</td>\n",
       "      <td>4</td>\n",
       "      <td>AV7</td>\n",
       "      <td>Z</td>\n",
       "      <td>6.0</td>\n",
       "      <td>5.8</td>\n",
       "      <td>5.9</td>\n",
       "      <td>48</td>\n",
       "      <td>136</td>\n",
       "    </tr>\n",
       "    <tr>\n",
       "      <th>3</th>\n",
       "      <td>2014</td>\n",
       "      <td>ACURA</td>\n",
       "      <td>MDX 4WD</td>\n",
       "      <td>SUV - SMALL</td>\n",
       "      <td>3.5</td>\n",
       "      <td>6</td>\n",
       "      <td>AS6</td>\n",
       "      <td>Z</td>\n",
       "      <td>12.7</td>\n",
       "      <td>9.1</td>\n",
       "      <td>11.1</td>\n",
       "      <td>25</td>\n",
       "      <td>255</td>\n",
       "    </tr>\n",
       "    <tr>\n",
       "      <th>4</th>\n",
       "      <td>2014</td>\n",
       "      <td>ACURA</td>\n",
       "      <td>RDX AWD</td>\n",
       "      <td>SUV - SMALL</td>\n",
       "      <td>3.5</td>\n",
       "      <td>6</td>\n",
       "      <td>AS6</td>\n",
       "      <td>Z</td>\n",
       "      <td>12.1</td>\n",
       "      <td>8.7</td>\n",
       "      <td>10.6</td>\n",
       "      <td>27</td>\n",
       "      <td>244</td>\n",
       "    </tr>\n",
       "  </tbody>\n",
       "</table>\n",
       "</div>"
      ],
      "text/plain": [
       "   MODELYEAR   MAKE       MODEL VEHICLECLASS  ENGINESIZE  CYLINDERS  \\\n",
       "0       2014  ACURA         ILX      COMPACT         2.0          4   \n",
       "1       2014  ACURA         ILX      COMPACT         2.4          4   \n",
       "2       2014  ACURA  ILX HYBRID      COMPACT         1.5          4   \n",
       "3       2014  ACURA     MDX 4WD  SUV - SMALL         3.5          6   \n",
       "4       2014  ACURA     RDX AWD  SUV - SMALL         3.5          6   \n",
       "\n",
       "  TRANSMISSION FUELTYPE  FUELCONSUMPTION_CITY  FUELCONSUMPTION_HWY  \\\n",
       "0          AS5        Z                   9.9                  6.7   \n",
       "1           M6        Z                  11.2                  7.7   \n",
       "2          AV7        Z                   6.0                  5.8   \n",
       "3          AS6        Z                  12.7                  9.1   \n",
       "4          AS6        Z                  12.1                  8.7   \n",
       "\n",
       "   FUELCONSUMPTION_COMB  FUELCONSUMPTION_COMB_MPG  CO2EMISSIONS  \n",
       "0                   8.5                        33           196  \n",
       "1                   9.6                        29           221  \n",
       "2                   5.9                        48           136  \n",
       "3                  11.1                        25           255  \n",
       "4                  10.6                        27           244  "
      ]
     },
     "execution_count": 2,
     "metadata": {},
     "output_type": "execute_result"
    }
   ],
   "source": [
    "data=pd.read_csv(\"co2.csv\")\n",
    "x1=data[\"ENGINESIZE\"]\n",
    "x2=data[\"CYLINDERS\"]\n",
    "y=data[\"CO2EMISSIONS\"]\n",
    "data.head()"
   ]
  },
  {
   "cell_type": "markdown",
   "id": "bc5110f4-2599-4f86-8d9b-a596ce46b48c",
   "metadata": {},
   "source": [
    "Defining the loss function using the Mean squared error method "
   ]
  },
  {
   "cell_type": "code",
   "execution_count": 3,
   "id": "943ab7c4-222b-443e-9a44-fd5c09935132",
   "metadata": {
    "tags": []
   },
   "outputs": [],
   "source": [
    "def loss(w1,w2,b,x1,x2,y):\n",
    "    n=len(x1)\n",
    "    y_pred=w1*(x1**2)+w2*x2+b\n",
    "    loss=(1/n)*sum(((y-y_pred)**2))\n",
    "    return loss"
   ]
  },
  {
   "cell_type": "markdown",
   "id": "29efc8c1-ff5b-472a-99b7-d707a9a5df42",
   "metadata": {},
   "source": [
    "Defining the gradient descent function "
   ]
  },
  {
   "cell_type": "code",
   "execution_count": 5,
   "id": "21f9244a-2776-4bd1-92c6-368deb7c04d7",
   "metadata": {
    "tags": []
   },
   "outputs": [],
   "source": [
    "def gradient_descent(x1,x2,y):\n",
    "    w1=0\n",
    "    w2=0\n",
    "    b=0\n",
    "    n=len(x1)\n",
    "    for i in range(5000):\n",
    "        y_pred=w1*(x1**2)+w2*x2+b\n",
    "        \n",
    "        d_w1=(-2/n)*sum(x1*(y-y_pred))\n",
    "        d_w2=(-2/n)*sum(x2*(y-y_pred))\n",
    "        d_b=(-2/n)*sum(y-y_pred)\n",
    "        \n",
    "        w1=w1-(0.001*d_w1)\n",
    "        w2=w2-(0.001*d_w2)\n",
    "        b=b-(0.001*d_b)\n",
    "        if(i%1000==0):\n",
    "            print(\"The loss after %d iterations is %f\" %(i,loss(w1,w2,b,x1,x2,y)))\n",
    "    return w1,w2,b"
   ]
  },
  {
   "cell_type": "markdown",
   "id": "62c6c543-c951-4a0d-b46e-2dd3bdcfca7b",
   "metadata": {},
   "source": [
    "Defining the predict function to predict the co2emission on the given Enginesize"
   ]
  },
  {
   "cell_type": "code",
   "execution_count": 7,
   "id": "7810a519-9901-44b2-bf37-102e51771067",
   "metadata": {
    "tags": []
   },
   "outputs": [],
   "source": [
    "def predict(x1,x2,w1,w2,b):\n",
    "    y_pred=w1*(x1**2)+w2*x2+b\n",
    "    return y_pred\n"
   ]
  },
  {
   "cell_type": "markdown",
   "id": "6c4fc769-2e3c-451e-a4ea-9fe7ad30cc97",
   "metadata": {},
   "source": [
    "Testing the model"
   ]
  },
  {
   "cell_type": "code",
   "execution_count": 8,
   "id": "3f1d594f-d47f-4d42-a377-67723cce4274",
   "metadata": {
    "tags": []
   },
   "outputs": [
    {
     "name": "stdout",
     "output_type": "stream",
     "text": [
      "The loss after 0 iterations is 47112.856375\n",
      "The loss after 1000 iterations is 1515.256751\n",
      "The loss after 2000 iterations is 1352.828900\n",
      "The loss after 3000 iterations is 1284.032657\n",
      "The loss after 4000 iterations is 1230.103287\n",
      "The parameter w1 is  1.5082789025450865 The parameter w2 is  28.79120966717924 The parameter b is  65.67084620676751\n",
      "the predicted Co2 emission for car with engine size 3.5 and 4 cylinder is 199.312101\n"
     ]
    }
   ],
   "source": [
    "w1,w2,b1=gradient_descent(x1,x2,y)\n",
    "print(\"The parameter w1 is \",w1,\"The parameter w2 is \",w2,\"The parameter b is \",b1)\n",
    "\n",
    "y_pred=predict(np.array([3.5]),np.array([4]),w1,w2,b1)\n",
    "print(\"the predicted Co2 emission for car with engine size 3.5 and 4 cylinder is %f\"%y_pred[0])"
   ]
  },
  {
   "cell_type": "code",
   "execution_count": null,
   "id": "3fde14dd-7de9-4ff4-81f6-ccf27b8035df",
   "metadata": {},
   "outputs": [],
   "source": []
  }
 ],
 "metadata": {
  "kernelspec": {
   "display_name": "Python 3 (ipykernel)",
   "language": "python",
   "name": "python3"
  },
  "language_info": {
   "codemirror_mode": {
    "name": "ipython",
    "version": 3
   },
   "file_extension": ".py",
   "mimetype": "text/x-python",
   "name": "python",
   "nbconvert_exporter": "python",
   "pygments_lexer": "ipython3",
   "version": "3.9.18"
  }
 },
 "nbformat": 4,
 "nbformat_minor": 5
}

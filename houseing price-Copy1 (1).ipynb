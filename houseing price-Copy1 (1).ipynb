{
 "cells": [
  {
   "cell_type": "markdown",
   "id": "f9be3516-2234-4bd6-b124-26895e7527b3",
   "metadata": {},
   "source": [
    "IMPORTING THE  ESSENTIAL LIBRARIES 📚📚"
   ]
  },
  {
   "cell_type": "code",
   "execution_count": 1,
   "id": "2bbfd53f-d4ec-4e8e-b53a-05fe7e6e9c1b",
   "metadata": {},
   "outputs": [],
   "source": [
    "import pandas as pd\n",
    "import matplotlib.pyplot as plt\n",
    "import numpy as np\n",
    "from sklearn.linear_model import LinearRegression\n",
    "from sklearn.linear_model import Ridge\n",
    "from sklearn.linear_model import Lasso\n",
    "from sklearn.linear_model import ElasticNet\n",
    "from sklearn.ensemble import RandomForestRegressor\n",
    "from sklearn.svm import SVR\n"
   ]
  },
  {
   "cell_type": "markdown",
   "id": "5ca3d38f-3b88-409d-af3e-cef3a37e47e5",
   "metadata": {},
   "source": [
    "LOADING THE DATA"
   ]
  },
  {
   "cell_type": "code",
   "execution_count": 2,
   "id": "c04fc7d7-1686-41f6-bb8e-91e56bbf18d3",
   "metadata": {},
   "outputs": [],
   "source": [
    "main_data=pd.read_csv(\"data.csv\")"
   ]
  },
  {
   "cell_type": "markdown",
   "id": "8c941ae8-7279-4c55-8b87-45d98f0bc079",
   "metadata": {},
   "source": [
    "EXPLOLATORY DATA ANALYSIS 📈📈"
   ]
  },
  {
   "cell_type": "code",
   "execution_count": 3,
   "id": "90898e87-e517-45f9-b309-804228df0721",
   "metadata": {},
   "outputs": [
    {
     "data": {
      "text/html": [
       "<div>\n",
       "<style scoped>\n",
       "    .dataframe tbody tr th:only-of-type {\n",
       "        vertical-align: middle;\n",
       "    }\n",
       "\n",
       "    .dataframe tbody tr th {\n",
       "        vertical-align: top;\n",
       "    }\n",
       "\n",
       "    .dataframe thead th {\n",
       "        text-align: right;\n",
       "    }\n",
       "</style>\n",
       "<table border=\"1\" class=\"dataframe\">\n",
       "  <thead>\n",
       "    <tr style=\"text-align: right;\">\n",
       "      <th></th>\n",
       "      <th>date</th>\n",
       "      <th>price</th>\n",
       "      <th>bedrooms</th>\n",
       "      <th>bathrooms</th>\n",
       "      <th>sqft_living</th>\n",
       "      <th>sqft_lot</th>\n",
       "      <th>floors</th>\n",
       "      <th>waterfront</th>\n",
       "      <th>view</th>\n",
       "      <th>condition</th>\n",
       "      <th>sqft_above</th>\n",
       "      <th>sqft_basement</th>\n",
       "      <th>yr_built</th>\n",
       "      <th>yr_renovated</th>\n",
       "      <th>street</th>\n",
       "      <th>city</th>\n",
       "      <th>statezip</th>\n",
       "      <th>country</th>\n",
       "    </tr>\n",
       "  </thead>\n",
       "  <tbody>\n",
       "    <tr>\n",
       "      <th>0</th>\n",
       "      <td>2014-05-02 00:00:00</td>\n",
       "      <td>313000.0</td>\n",
       "      <td>3.0</td>\n",
       "      <td>1.50</td>\n",
       "      <td>1340</td>\n",
       "      <td>7912</td>\n",
       "      <td>1.5</td>\n",
       "      <td>0</td>\n",
       "      <td>0</td>\n",
       "      <td>3</td>\n",
       "      <td>1340</td>\n",
       "      <td>0</td>\n",
       "      <td>1955</td>\n",
       "      <td>2005</td>\n",
       "      <td>18810 Densmore Ave N</td>\n",
       "      <td>Shoreline</td>\n",
       "      <td>WA 98133</td>\n",
       "      <td>USA</td>\n",
       "    </tr>\n",
       "    <tr>\n",
       "      <th>1</th>\n",
       "      <td>2014-05-02 00:00:00</td>\n",
       "      <td>2384000.0</td>\n",
       "      <td>5.0</td>\n",
       "      <td>2.50</td>\n",
       "      <td>3650</td>\n",
       "      <td>9050</td>\n",
       "      <td>2.0</td>\n",
       "      <td>0</td>\n",
       "      <td>4</td>\n",
       "      <td>5</td>\n",
       "      <td>3370</td>\n",
       "      <td>280</td>\n",
       "      <td>1921</td>\n",
       "      <td>0</td>\n",
       "      <td>709 W Blaine St</td>\n",
       "      <td>Seattle</td>\n",
       "      <td>WA 98119</td>\n",
       "      <td>USA</td>\n",
       "    </tr>\n",
       "    <tr>\n",
       "      <th>2</th>\n",
       "      <td>2014-05-02 00:00:00</td>\n",
       "      <td>342000.0</td>\n",
       "      <td>3.0</td>\n",
       "      <td>2.00</td>\n",
       "      <td>1930</td>\n",
       "      <td>11947</td>\n",
       "      <td>1.0</td>\n",
       "      <td>0</td>\n",
       "      <td>0</td>\n",
       "      <td>4</td>\n",
       "      <td>1930</td>\n",
       "      <td>0</td>\n",
       "      <td>1966</td>\n",
       "      <td>0</td>\n",
       "      <td>26206-26214 143rd Ave SE</td>\n",
       "      <td>Kent</td>\n",
       "      <td>WA 98042</td>\n",
       "      <td>USA</td>\n",
       "    </tr>\n",
       "    <tr>\n",
       "      <th>3</th>\n",
       "      <td>2014-05-02 00:00:00</td>\n",
       "      <td>420000.0</td>\n",
       "      <td>3.0</td>\n",
       "      <td>2.25</td>\n",
       "      <td>2000</td>\n",
       "      <td>8030</td>\n",
       "      <td>1.0</td>\n",
       "      <td>0</td>\n",
       "      <td>0</td>\n",
       "      <td>4</td>\n",
       "      <td>1000</td>\n",
       "      <td>1000</td>\n",
       "      <td>1963</td>\n",
       "      <td>0</td>\n",
       "      <td>857 170th Pl NE</td>\n",
       "      <td>Bellevue</td>\n",
       "      <td>WA 98008</td>\n",
       "      <td>USA</td>\n",
       "    </tr>\n",
       "    <tr>\n",
       "      <th>4</th>\n",
       "      <td>2014-05-02 00:00:00</td>\n",
       "      <td>550000.0</td>\n",
       "      <td>4.0</td>\n",
       "      <td>2.50</td>\n",
       "      <td>1940</td>\n",
       "      <td>10500</td>\n",
       "      <td>1.0</td>\n",
       "      <td>0</td>\n",
       "      <td>0</td>\n",
       "      <td>4</td>\n",
       "      <td>1140</td>\n",
       "      <td>800</td>\n",
       "      <td>1976</td>\n",
       "      <td>1992</td>\n",
       "      <td>9105 170th Ave NE</td>\n",
       "      <td>Redmond</td>\n",
       "      <td>WA 98052</td>\n",
       "      <td>USA</td>\n",
       "    </tr>\n",
       "  </tbody>\n",
       "</table>\n",
       "</div>"
      ],
      "text/plain": [
       "                  date      price  bedrooms  bathrooms  sqft_living  sqft_lot  \\\n",
       "0  2014-05-02 00:00:00   313000.0       3.0       1.50         1340      7912   \n",
       "1  2014-05-02 00:00:00  2384000.0       5.0       2.50         3650      9050   \n",
       "2  2014-05-02 00:00:00   342000.0       3.0       2.00         1930     11947   \n",
       "3  2014-05-02 00:00:00   420000.0       3.0       2.25         2000      8030   \n",
       "4  2014-05-02 00:00:00   550000.0       4.0       2.50         1940     10500   \n",
       "\n",
       "   floors  waterfront  view  condition  sqft_above  sqft_basement  yr_built  \\\n",
       "0     1.5           0     0          3        1340              0      1955   \n",
       "1     2.0           0     4          5        3370            280      1921   \n",
       "2     1.0           0     0          4        1930              0      1966   \n",
       "3     1.0           0     0          4        1000           1000      1963   \n",
       "4     1.0           0     0          4        1140            800      1976   \n",
       "\n",
       "   yr_renovated                    street       city  statezip country  \n",
       "0          2005      18810 Densmore Ave N  Shoreline  WA 98133     USA  \n",
       "1             0           709 W Blaine St    Seattle  WA 98119     USA  \n",
       "2             0  26206-26214 143rd Ave SE       Kent  WA 98042     USA  \n",
       "3             0           857 170th Pl NE   Bellevue  WA 98008     USA  \n",
       "4          1992         9105 170th Ave NE    Redmond  WA 98052     USA  "
      ]
     },
     "execution_count": 3,
     "metadata": {},
     "output_type": "execute_result"
    }
   ],
   "source": [
    "main_data.head()"
   ]
  },
  {
   "cell_type": "code",
   "execution_count": 4,
   "id": "ab664219-a05d-4430-9638-60fc9e26946b",
   "metadata": {},
   "outputs": [],
   "source": [
    "cleaned_data=pd.DataFrame(main_data[[\"price\",\"bedrooms\",\"bathrooms\",\"sqft_living\",\"floors\",\"yr_built\"]])"
   ]
  },
  {
   "cell_type": "code",
   "execution_count": 5,
   "id": "3d8d5cb4-1cf7-44b2-a307-018d73fb4f49",
   "metadata": {},
   "outputs": [
    {
     "data": {
      "text/html": [
       "<div>\n",
       "<style scoped>\n",
       "    .dataframe tbody tr th:only-of-type {\n",
       "        vertical-align: middle;\n",
       "    }\n",
       "\n",
       "    .dataframe tbody tr th {\n",
       "        vertical-align: top;\n",
       "    }\n",
       "\n",
       "    .dataframe thead th {\n",
       "        text-align: right;\n",
       "    }\n",
       "</style>\n",
       "<table border=\"1\" class=\"dataframe\">\n",
       "  <thead>\n",
       "    <tr style=\"text-align: right;\">\n",
       "      <th></th>\n",
       "      <th>price</th>\n",
       "      <th>bedrooms</th>\n",
       "      <th>bathrooms</th>\n",
       "      <th>sqft_living</th>\n",
       "      <th>floors</th>\n",
       "      <th>yr_built</th>\n",
       "    </tr>\n",
       "  </thead>\n",
       "  <tbody>\n",
       "    <tr>\n",
       "      <th>0</th>\n",
       "      <td>313000.0</td>\n",
       "      <td>3.0</td>\n",
       "      <td>1.50</td>\n",
       "      <td>1340</td>\n",
       "      <td>1.5</td>\n",
       "      <td>1955</td>\n",
       "    </tr>\n",
       "    <tr>\n",
       "      <th>1</th>\n",
       "      <td>2384000.0</td>\n",
       "      <td>5.0</td>\n",
       "      <td>2.50</td>\n",
       "      <td>3650</td>\n",
       "      <td>2.0</td>\n",
       "      <td>1921</td>\n",
       "    </tr>\n",
       "    <tr>\n",
       "      <th>2</th>\n",
       "      <td>342000.0</td>\n",
       "      <td>3.0</td>\n",
       "      <td>2.00</td>\n",
       "      <td>1930</td>\n",
       "      <td>1.0</td>\n",
       "      <td>1966</td>\n",
       "    </tr>\n",
       "    <tr>\n",
       "      <th>3</th>\n",
       "      <td>420000.0</td>\n",
       "      <td>3.0</td>\n",
       "      <td>2.25</td>\n",
       "      <td>2000</td>\n",
       "      <td>1.0</td>\n",
       "      <td>1963</td>\n",
       "    </tr>\n",
       "    <tr>\n",
       "      <th>4</th>\n",
       "      <td>550000.0</td>\n",
       "      <td>4.0</td>\n",
       "      <td>2.50</td>\n",
       "      <td>1940</td>\n",
       "      <td>1.0</td>\n",
       "      <td>1976</td>\n",
       "    </tr>\n",
       "  </tbody>\n",
       "</table>\n",
       "</div>"
      ],
      "text/plain": [
       "       price  bedrooms  bathrooms  sqft_living  floors  yr_built\n",
       "0   313000.0       3.0       1.50         1340     1.5      1955\n",
       "1  2384000.0       5.0       2.50         3650     2.0      1921\n",
       "2   342000.0       3.0       2.00         1930     1.0      1966\n",
       "3   420000.0       3.0       2.25         2000     1.0      1963\n",
       "4   550000.0       4.0       2.50         1940     1.0      1976"
      ]
     },
     "execution_count": 5,
     "metadata": {},
     "output_type": "execute_result"
    }
   ],
   "source": [
    "cleaned_data.head()"
   ]
  },
  {
   "cell_type": "markdown",
   "id": "c8016b1e-def4-4010-a097-4f995c7aeed1",
   "metadata": {},
   "source": [
    "DATA DEFINITION"
   ]
  },
  {
   "cell_type": "code",
   "execution_count": 6,
   "id": "71261ad5-1ae8-49b7-8ac8-929ff160f098",
   "metadata": {},
   "outputs": [
    {
     "data": {
      "text/html": [
       "<div>\n",
       "<style scoped>\n",
       "    .dataframe tbody tr th:only-of-type {\n",
       "        vertical-align: middle;\n",
       "    }\n",
       "\n",
       "    .dataframe tbody tr th {\n",
       "        vertical-align: top;\n",
       "    }\n",
       "\n",
       "    .dataframe thead th {\n",
       "        text-align: right;\n",
       "    }\n",
       "</style>\n",
       "<table border=\"1\" class=\"dataframe\">\n",
       "  <thead>\n",
       "    <tr style=\"text-align: right;\">\n",
       "      <th></th>\n",
       "      <th>price</th>\n",
       "      <th>bedrooms</th>\n",
       "      <th>bathrooms</th>\n",
       "      <th>sqft_living</th>\n",
       "      <th>floors</th>\n",
       "      <th>yr_built</th>\n",
       "    </tr>\n",
       "  </thead>\n",
       "  <tbody>\n",
       "    <tr>\n",
       "      <th>count</th>\n",
       "      <td>4.600000e+03</td>\n",
       "      <td>4600.000000</td>\n",
       "      <td>4600.000000</td>\n",
       "      <td>4600.000000</td>\n",
       "      <td>4600.000000</td>\n",
       "      <td>4600.000000</td>\n",
       "    </tr>\n",
       "    <tr>\n",
       "      <th>mean</th>\n",
       "      <td>5.519630e+05</td>\n",
       "      <td>3.400870</td>\n",
       "      <td>2.160815</td>\n",
       "      <td>2139.346957</td>\n",
       "      <td>1.512065</td>\n",
       "      <td>1970.786304</td>\n",
       "    </tr>\n",
       "    <tr>\n",
       "      <th>std</th>\n",
       "      <td>5.638347e+05</td>\n",
       "      <td>0.908848</td>\n",
       "      <td>0.783781</td>\n",
       "      <td>963.206916</td>\n",
       "      <td>0.538288</td>\n",
       "      <td>29.731848</td>\n",
       "    </tr>\n",
       "    <tr>\n",
       "      <th>min</th>\n",
       "      <td>0.000000e+00</td>\n",
       "      <td>0.000000</td>\n",
       "      <td>0.000000</td>\n",
       "      <td>370.000000</td>\n",
       "      <td>1.000000</td>\n",
       "      <td>1900.000000</td>\n",
       "    </tr>\n",
       "    <tr>\n",
       "      <th>25%</th>\n",
       "      <td>3.228750e+05</td>\n",
       "      <td>3.000000</td>\n",
       "      <td>1.750000</td>\n",
       "      <td>1460.000000</td>\n",
       "      <td>1.000000</td>\n",
       "      <td>1951.000000</td>\n",
       "    </tr>\n",
       "    <tr>\n",
       "      <th>50%</th>\n",
       "      <td>4.609435e+05</td>\n",
       "      <td>3.000000</td>\n",
       "      <td>2.250000</td>\n",
       "      <td>1980.000000</td>\n",
       "      <td>1.500000</td>\n",
       "      <td>1976.000000</td>\n",
       "    </tr>\n",
       "    <tr>\n",
       "      <th>75%</th>\n",
       "      <td>6.549625e+05</td>\n",
       "      <td>4.000000</td>\n",
       "      <td>2.500000</td>\n",
       "      <td>2620.000000</td>\n",
       "      <td>2.000000</td>\n",
       "      <td>1997.000000</td>\n",
       "    </tr>\n",
       "    <tr>\n",
       "      <th>max</th>\n",
       "      <td>2.659000e+07</td>\n",
       "      <td>9.000000</td>\n",
       "      <td>8.000000</td>\n",
       "      <td>13540.000000</td>\n",
       "      <td>3.500000</td>\n",
       "      <td>2014.000000</td>\n",
       "    </tr>\n",
       "  </tbody>\n",
       "</table>\n",
       "</div>"
      ],
      "text/plain": [
       "              price     bedrooms    bathrooms   sqft_living       floors  \\\n",
       "count  4.600000e+03  4600.000000  4600.000000   4600.000000  4600.000000   \n",
       "mean   5.519630e+05     3.400870     2.160815   2139.346957     1.512065   \n",
       "std    5.638347e+05     0.908848     0.783781    963.206916     0.538288   \n",
       "min    0.000000e+00     0.000000     0.000000    370.000000     1.000000   \n",
       "25%    3.228750e+05     3.000000     1.750000   1460.000000     1.000000   \n",
       "50%    4.609435e+05     3.000000     2.250000   1980.000000     1.500000   \n",
       "75%    6.549625e+05     4.000000     2.500000   2620.000000     2.000000   \n",
       "max    2.659000e+07     9.000000     8.000000  13540.000000     3.500000   \n",
       "\n",
       "          yr_built  \n",
       "count  4600.000000  \n",
       "mean   1970.786304  \n",
       "std      29.731848  \n",
       "min    1900.000000  \n",
       "25%    1951.000000  \n",
       "50%    1976.000000  \n",
       "75%    1997.000000  \n",
       "max    2014.000000  "
      ]
     },
     "execution_count": 6,
     "metadata": {},
     "output_type": "execute_result"
    }
   ],
   "source": [
    "cleaned_data.describe()"
   ]
  },
  {
   "cell_type": "markdown",
   "id": "7f6cb406-5e8d-4f79-a361-5738a68c6ff7",
   "metadata": {},
   "source": [
    "VISUALISING INDEPENDENT VARAIBLE'S RELATION WTIH THE DEPENDENT VARAIBLE IN CLEANED DATA"
   ]
  },
  {
   "cell_type": "code",
   "execution_count": 7,
   "id": "6833651e-8ec1-4969-ac73-b3bc1f5257a7",
   "metadata": {},
   "outputs": [
    {
     "data": {
      "image/png": "[encoded data removed]",
      "text/plain": [
       "<Figure size 640x480 with 6 Axes>"
      ]
     },
     "metadata": {},
     "output_type": "display_data"
    }
   ],
   "source": [
    "row,col=cleaned_data.shape\n",
    "\n",
    "fig,axes=plt.subplots(nrows=2,ncols=3)\n",
    "axes[0,0].scatter(cleaned_data[[\"bedrooms\"]],cleaned_data[[\"price\"]])\n",
    "axes[0,0].set_ylabel(\"prices\")\n",
    "axes[0,0].set_xlabel(\"bedrooms\")\n",
    "\n",
    "axes[0,1].scatter(cleaned_data[[\"floors\"]],cleaned_data[[\"price\"]])\n",
    "axes[0,1].set_ylabel(\"prices\")\n",
    "axes[0,1].set_xlabel(\"floors\")\n",
    "\n",
    "axes[1,0].scatter(cleaned_data[[\"bathrooms\"]],cleaned_data[[\"price\"]])\n",
    "axes[1,0].set_ylabel(\"prices\")\n",
    "axes[1,0].set_xlabel(\"bathrooms\")\n",
    "\n",
    "axes[1,1].scatter(cleaned_data[[\"sqft_living\"]],cleaned_data[[\"price\"]])\n",
    "axes[1,1].set_ylabel(\"prices\")\n",
    "axes[1,1].set_xlabel(\"sqft_living\")\n",
    "\n",
    "axes[0,2].scatter(cleaned_data[[\"yr_built\"]],cleaned_data[[\"price\"]])\n",
    "axes[0,2].set_ylabel(\"prices\")\n",
    "axes[0,2].set_xlabel(\"yr_built\")\n",
    "plt.subplots_adjust(wspace=0.5, hspace=0.5)\n",
    "\n"
   ]
  },
  {
   "cell_type": "code",
   "execution_count": 8,
   "id": "d94ba613-caaf-4534-9649-6b415cdacf08",
   "metadata": {},
   "outputs": [],
   "source": [
    "x=cleaned_data[[\"bedrooms\",\"bathrooms\",\"sqft_living\",\"floors\",\"yr_built\"]]\n",
    "y=cleaned_data[[\"price\"]]\n"
   ]
  },
  {
   "cell_type": "markdown",
   "id": "52444224-7def-451d-bd7f-b504e1a9ab8d",
   "metadata": {},
   "source": [
    "TEST TRAIN SET OF THE CLEANED DATA"
   ]
  },
  {
   "cell_type": "code",
   "execution_count": 9,
   "id": "738f33c5-7e67-4db2-bce1-fa0b2e2a335e",
   "metadata": {},
   "outputs": [],
   "source": [
    "true=np.random.rand(len(x))<0.8\n",
    "x_train=x[true]\n",
    "y_train=y[true]\n",
    "x_test=x[~true]\n",
    "y_test=np.array(y[~true])"
   ]
  },
  {
   "cell_type": "markdown",
   "id": "03f2ddbc-59f6-44b8-9447-fd3e930e8213",
   "metadata": {},
   "source": [
    "ROOT MEAN SQUARED ERROR FOR ACCURACY CHECKING"
   ]
  },
  {
   "cell_type": "code",
   "execution_count": 10,
   "id": "3ce44328-8b66-4e55-ab9a-fd11f31deb95",
   "metadata": {},
   "outputs": [],
   "source": [
    "def root_mean_squared_error(y_tst, y_p):\n",
    "    n = len(y_tst)\n",
    "    total_error = 0\n",
    "    for i in range(n):\n",
    "        temp = (y_tst[i] - y_p[i]) ** 2\n",
    "        total_error += temp\n",
    "    rmse = np.sqrt(total_error / n)\n",
    "    return float(rmse)\n",
    "rmse_dict={}     "
   ]
  },
  {
   "cell_type": "markdown",
   "id": "9c184688-a5da-4721-b54c-c66587c065d1",
   "metadata": {},
   "source": [
    "LINEAR REGRESSION MODEL"
   ]
  },
  {
   "cell_type": "code",
   "execution_count": 11,
   "id": "31c99a34-c961-429c-98c5-1b7e2cf4c62a",
   "metadata": {},
   "outputs": [],
   "source": [
    "lin_mod=LinearRegression()\n",
    "\n",
    "lin_mod.fit(x_train,y_train)\n",
    "y_cap=np.array(lin_mod.predict(x_test))\n",
    "\n",
    "lin_reg_rmse=root_mean_squared_error(y_test,y_cap)\n",
    "\n",
    "rmse_dict.update({\"lin_reg\":lin_reg_rmse})"
   ]
  },
  {
   "cell_type": "markdown",
   "id": "a65eadba-4335-48a6-8290-8d513b29e73c",
   "metadata": {},
   "source": [
    "RIDGE REGRESSION MODEL\n"
   ]
  },
  {
   "cell_type": "code",
   "execution_count": 12,
   "id": "4a37b935-a460-402b-8155-13c8d5f3cbad",
   "metadata": {},
   "outputs": [],
   "source": [
    "rid_mod=Ridge()\n",
    "\n",
    "rid_mod.fit(x_train,y_train)\n",
    "y_cap=np.array(rid_mod.predict(x_test))\n",
    "\n",
    "rid_reg_rmse=root_mean_squared_error(y_test,y_cap)\n",
    "\n",
    "rmse_dict.update({\"rid_reg\":rid_reg_rmse})\n"
   ]
  },
  {
   "cell_type": "markdown",
   "id": "8f632e0f-808d-49ee-9185-e2735c01d793",
   "metadata": {},
   "source": [
    "LASSO REGRESSION MODEL"
   ]
  },
  {
   "cell_type": "code",
   "execution_count": 13,
   "id": "5969f082-ad6a-456b-be90-f0b3f3e0a185",
   "metadata": {},
   "outputs": [],
   "source": [
    "lasso_mod=Lasso()\n",
    "\n",
    "lasso_mod.fit(x_train,y_train)\n",
    "y_cap=np.array(lasso_mod.predict(x_test))\n",
    "\n",
    "lasso_reg_rmse=root_mean_squared_error(y_test,y_cap)\n",
    "\n",
    "rmse_dict.update({\"lasso_reg\":lasso_reg_rmse})"
   ]
  },
  {
   "cell_type": "markdown",
   "id": "79b1da18-1a5b-4324-84e1-f8715dfdb2b5",
   "metadata": {},
   "source": [
    "ELASTIC NET REGRESSION MODEL"
   ]
  },
  {
   "cell_type": "code",
   "execution_count": 14,
   "id": "cb163d60-039b-4500-b1ac-856fec2c9e84",
   "metadata": {},
   "outputs": [],
   "source": [
    "elasticnet_mod=ElasticNet()\n",
    "\n",
    "elasticnet_mod.fit(x_train,y_train)\n",
    "y_cap=np.array(elasticnet_mod.predict(x_test))\n",
    "\n",
    "elasticnet_reg_rmse=root_mean_squared_error(y_test,y_cap)\n",
    "\n",
    "rmse_dict.update({\"elasticnet_reg\":elasticnet_reg_rmse})"
   ]
  },
  {
   "cell_type": "markdown",
   "id": "30c2e5db-e972-4eba-98e1-ad6b8e3f0640",
   "metadata": {},
   "source": [
    "RANDOM FOREST REGRESSION"
   ]
  },
  {
   "cell_type": "code",
   "execution_count": 15,
   "id": "76ce4e26-f704-4f7c-a1b2-3c992675c190",
   "metadata": {},
   "outputs": [],
   "source": [
    "rfr_mod=RandomForestRegressor()\n",
    "\n",
    "rfr_mod.fit(x_train,y_train.to_numpy().ravel())\n",
    "y_cap=np.array(rfr_mod.predict(x_test))\n",
    "\n",
    "rfr_reg_rmse=root_mean_squared_error(y_test,y_cap)\n",
    "\n",
    "rmse_dict.update({\"rfr_reg\":rfr_reg_rmse})\n"
   ]
  },
  {
   "cell_type": "markdown",
   "id": "a67b5cd3-1b8d-4ae0-8c07-a15f7adb17d7",
   "metadata": {},
   "source": [
    "SUPPORT VECTOR REGRESSION"
   ]
  },
  {
   "cell_type": "code",
   "execution_count": 16,
   "id": "af3c9167-dd66-43c4-b57e-afda9a0b4402",
   "metadata": {},
   "outputs": [],
   "source": [
    "\n",
    "svr_mod=SVR()\n",
    "\n",
    "svr_mod.fit(x_train,y_train.to_numpy().ravel())\n",
    "y_cap=np.array(svr_mod.predict(x_test))\n",
    "\n",
    "svr_reg_rmse=root_mean_squared_error(y_test,y_cap)\n",
    "\n",
    "rmse_dict.update({\"svr_reg\":svr_reg_rmse})"
   ]
  },
  {
   "cell_type": "markdown",
   "id": "aea761e0-b294-49d6-9590-4e61e28cb728",
   "metadata": {},
   "source": [
    "MODEL COMPARISON BY USING THE RMSE VALUE OF THE MODEL"
   ]
  },
  {
   "cell_type": "code",
   "execution_count": 17,
   "id": "03a1496a-1b40-4b03-85f3-4d70d606f83f",
   "metadata": {},
   "outputs": [
    {
     "data": {
      "text/plain": [
       "{'rid_reg': 264811.46354052884,\n",
       " 'lasso_reg': 264811.9421360478,\n",
       " 'lin_reg': 264811.97550317465,\n",
       " 'elasticnet_reg': 266025.4362546654,\n",
       " 'svr_reg': 350289.46735000296,\n",
       " 'rfr_reg': 394260.17071777873}"
      ]
     },
     "execution_count": 17,
     "metadata": {},
     "output_type": "execute_result"
    }
   ],
   "source": [
    "rmse_dict = dict(sorted(rmse_dict.items(), key=lambda item: item[1]))\n",
    "rmse_dict"
   ]
  },
  {
   "cell_type": "markdown",
   "id": "f39e46ef-dd51-485d-98ed-2e4ac81e0ffe",
   "metadata": {},
   "source": [
    "PLOTING RMSE SCORES 📊📊📊"
   ]
  },
  {
   "cell_type": "code",
   "execution_count": 18,
   "id": "53290409-21f0-4306-8e30-2b76f3aa9f92",
   "metadata": {},
   "outputs": [
    {
     "data": {
      "image/png": "[encoded data removed]",
      "text/plain": [
       "<Figure size 640x480 with 1 Axes>"
      ]
     },
     "metadata": {},
     "output_type": "display_data"
    }
   ],
   "source": [
    "keys = list(rmse_dict.keys())\n",
    "values = list(rmse_dict.values())\n",
    "\n",
    "# Create a bar plo\n",
    "plt.bar(keys, values)\n",
    "\n",
    "# Add labels and title\n",
    "plt.xlabel('Models')\n",
    "plt.ylabel('Values')\n",
    "plt.title('Bar Plot of Dictionary Values')\n",
    "\n",
    "# Show the plot\n",
    "plt.show()"
   ]
  },
  {
   "cell_type": "markdown",
   "id": "b2c81cea-809e-4e40-a1ee-72084f704a9c",
   "metadata": {},
   "source": [
    "THANK YOU FOR REACHING THE END🤗🤗"
   ]
  },
  {
   "cell_type": "code",
   "execution_count": null,
   "id": "3862ec4e-d3e5-4af8-81be-96f9c2124bbb",
   "metadata": {},
   "outputs": [],
   "source": []
  }
 ],
 "metadata": {
  "kernelspec": {
   "display_name": "Python 3 (ipykernel)",
   "language": "python",
   "name": "python3"
  },
  "language_info": {
   "codemirror_mode": {
    "name": "ipython",
    "version": 3
   },
   "file_extension": ".py",
   "mimetype": "text/x-python",
   "name": "python",
   "nbconvert_exporter": "python",
   "pygments_lexer": "ipython3",
   "version": "3.9.18"
  }
 },
 "nbformat": 4,
 "nbformat_minor": 5
}
